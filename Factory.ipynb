{
 "cells": [
  {
   "cell_type": "markdown",
   "metadata": {},
   "source": [
    "Factory"
   ]
  },
  {
   "cell_type": "code",
   "execution_count": 2,
   "metadata": {},
   "outputs": [],
   "source": [
    "from __future__ import annotations\n",
    "from abc import ABC, abstractmethod"
   ]
  },
  {
   "cell_type": "code",
   "execution_count": 3,
   "metadata": {},
   "outputs": [],
   "source": [
    "class Creator(ABC):\n",
    "    \"\"\"\n",
    "    The Creator class declares the factory method that is supposed to return an\n",
    "    object of a Product class. The Creator's subclasses usually provide the\n",
    "    implementation of this method.\n",
    "    \"\"\"\n",
    "\n",
    "    @abstractmethod\n",
    "    def factory_method(self):\n",
    "        \"\"\"\n",
    "        Note that the Creator may also provide some default implementation of\n",
    "        the factory method.\n",
    "        \"\"\"\n",
    "        pass\n",
    "    def some_operation(self) -> str:\n",
    "        \"\"\"\n",
    "        Also note that, despite its name, the Creator's primary responsibility\n",
    "        is not creating products. Usually, it contains some core business logic\n",
    "        that relies on Product objects, returned by the factory method.\n",
    "        Subclasses can indirectly change that business logic by overriding the\n",
    "        factory method and returning a different type of product from it.\n",
    "        \"\"\"\n",
    "\n",
    "        # Call the factory method to create a Product object.\n",
    "        product = self.factory_method()\n",
    "\n",
    "        # Now, use the product.\n",
    "        result = f\"Creator: The same creator's code has just worked with {product.operation()}\"\n",
    "\n",
    "        return result"
   ]
  },
  {
   "cell_type": "code",
   "execution_count": 4,
   "metadata": {},
   "outputs": [],
   "source": [
    "\"\"\"\n",
    "Concrete Creators override the factory method in order to change the resulting\n",
    "product's type.\n",
    "\"\"\"\n",
    "\n",
    "\n",
    "class ConcreteCreator1(Creator):\n",
    "    \"\"\"\n",
    "    Note that the signature of the method still uses the abstract product type,\n",
    "    even though the concrete product is actually returned from the method. This\n",
    "    way the Creator can stay independent of concrete product classes.\n",
    "    \"\"\"\n",
    "\n",
    "    def factory_method(self) -> Product:\n",
    "        return ConcreteProduct1()\n",
    "\n",
    "\n",
    "class ConcreteCreator2(Creator):\n",
    "    def factory_method(self) -> Product:\n",
    "        return ConcreteProduct2()\n",
    "\n",
    "\n",
    "class Product(ABC):\n",
    "    \"\"\"\n",
    "    The Product interface declares the operations that all concrete products\n",
    "    must implement.\n",
    "    \"\"\"\n",
    "\n",
    "    @abstractmethod\n",
    "    def operation(self) -> str:\n",
    "        pass"
   ]
  },
  {
   "cell_type": "code",
   "execution_count": 5,
   "metadata": {},
   "outputs": [],
   "source": [
    "\"\"\"\n",
    "Concrete Products provide various implementations of the Product interface.\n",
    "\"\"\"\n",
    "\n",
    "\n",
    "class ConcreteProduct1(Product):\n",
    "    def operation(self) -> str:\n",
    "        return \"{Result of the ConcreteProduct1}\"\n",
    "\n",
    "\n",
    "class ConcreteProduct2(Product):\n",
    "    def operation(self) -> str:\n",
    "        return \"{Result of the ConcreteProduct2}\"\n",
    "\n",
    "\n",
    "def client_code(creator: Creator) -> None:\n",
    "    \"\"\"\n",
    "    The client code works with an instance of a concrete creator, albeit through\n",
    "    its base interface. As long as the client keeps working with the creator via\n",
    "    the base interface, you can pass it any creator's subclass.\n",
    "    \"\"\"\n",
    "\n",
    "    print(f\"Client: I'm not aware of the creator's class, but it still works.\\n\"\n",
    "          f\"{creator.some_operation()}\", end=\"\")\n"
   ]
  },
  {
   "cell_type": "code",
   "execution_count": 6,
   "metadata": {},
   "outputs": [
    {
     "name": "stdout",
     "output_type": "stream",
     "text": [
      "App: Launched with the ConcreteCreator1.\n",
      "Client: I'm not aware of the creator's class, but it still works.\n",
      "Creator: The same creator's code has just worked with {Result of the ConcreteProduct1}\n",
      "\n",
      "App: Launched with the ConcreteCreator2.\n",
      "Client: I'm not aware of the creator's class, but it still works.\n",
      "Creator: The same creator's code has just worked with {Result of the ConcreteProduct2}"
     ]
    }
   ],
   "source": [
    "if __name__ == \"__main__\":\n",
    "    print(\"App: Launched with the ConcreteCreator1.\")\n",
    "    client_code(ConcreteCreator1())\n",
    "    print(\"\\n\")\n",
    "\n",
    "    print(\"App: Launched with the ConcreteCreator2.\")\n",
    "    client_code(ConcreteCreator2())"
   ]
  }
 ],
 "metadata": {
  "kernelspec": {
   "display_name": "Python 3.10.4 64-bit",
   "language": "python",
   "name": "python3"
  },
  "language_info": {
   "codemirror_mode": {
    "name": "ipython",
    "version": 3
   },
   "file_extension": ".py",
   "mimetype": "text/x-python",
   "name": "python",
   "nbconvert_exporter": "python",
   "pygments_lexer": "ipython3",
   "version": "3.10.4"
  },
  "orig_nbformat": 4,
  "vscode": {
   "interpreter": {
    "hash": "4f946df053fbf2b937619d3c5458e7af74262f9a954d8797ba0b27400bcafe06"
   }
  }
 },
 "nbformat": 4,
 "nbformat_minor": 2
}
