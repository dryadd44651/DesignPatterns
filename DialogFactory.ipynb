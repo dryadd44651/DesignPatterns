{
 "cells": [
  {
   "cell_type": "markdown",
   "metadata": {},
   "source": [
    "Factory"
   ]
  },
  {
   "cell_type": "code",
   "execution_count": 25,
   "metadata": {},
   "outputs": [],
   "source": [
    "from __future__ import annotations\n",
    "from abc import ABC, abstractmethod"
   ]
  },
  {
   "cell_type": "markdown",
   "metadata": {},
   "source": [
    "Creator"
   ]
  },
  {
   "cell_type": "code",
   "execution_count": 26,
   "metadata": {},
   "outputs": [],
   "source": [
    "class Dialog(ABC):\n",
    "    @abstractmethod\n",
    "    def createButton(self):\n",
    "        pass\n",
    "    def render(self) -> str:\n",
    "        # Call the factory method to create a product object.\n",
    "        okButton = self.createButton()\n",
    "        # Now use the product.\n",
    "        okButton.onClick()\n",
    "        okButton.render()"
   ]
  },
  {
   "cell_type": "markdown",
   "metadata": {},
   "source": [
    "Impl Creator"
   ]
  },
  {
   "cell_type": "code",
   "execution_count": 27,
   "metadata": {},
   "outputs": [],
   "source": [
    "\n",
    "class WindowsDialog(Dialog):\n",
    "    def createButton(self) -> Button:\n",
    "        return WindowsButton()\n",
    "\n",
    "\n",
    "class WebDialog(Dialog):\n",
    "    def createButton(self) -> Button:\n",
    "        return HTMLButton()\n",
    "\n",
    "\n"
   ]
  },
  {
   "cell_type": "markdown",
   "metadata": {},
   "source": [
    "Object"
   ]
  },
  {
   "cell_type": "code",
   "execution_count": 28,
   "metadata": {},
   "outputs": [],
   "source": [
    "class Button(ABC):\n",
    "    \n",
    "    @abstractmethod\n",
    "    def render(self):\n",
    "        pass\n",
    "    @abstractmethod\n",
    "    def onClick(self):\n",
    "        pass"
   ]
  },
  {
   "cell_type": "markdown",
   "metadata": {},
   "source": [
    "Impl Object"
   ]
  },
  {
   "cell_type": "code",
   "execution_count": 29,
   "metadata": {},
   "outputs": [],
   "source": [
    "class WindowsButton(Button):\n",
    "    def render(self):\n",
    "        print(\"render win btn\")\n",
    "    def onClick(self):\n",
    "        print(\"click win btn\")\n",
    "        \n",
    "\n",
    "\n",
    "class HTMLButton(Button):\n",
    "    def render(self):\n",
    "        print(\"render web btn\")\n",
    "    def onClick(self):\n",
    "        print(\"click web btn\")\n",
    "\n"
   ]
  },
  {
   "cell_type": "markdown",
   "metadata": {},
   "source": [
    "Client Appliction"
   ]
  },
  {
   "cell_type": "code",
   "execution_count": 30,
   "metadata": {},
   "outputs": [],
   "source": [
    "def Application(dialog: Dialog) -> None:\n",
    "    \n",
    "    print(\"Application\\n\")\n",
    "    dialog.render()"
   ]
  },
  {
   "cell_type": "markdown",
   "metadata": {},
   "source": [
    "Main"
   ]
  },
  {
   "cell_type": "code",
   "execution_count": 31,
   "metadata": {},
   "outputs": [
    {
     "name": "stdout",
     "output_type": "stream",
     "text": [
      "App: Launched with the ConcreteCreator1.\n",
      "Application\n",
      "\n",
      "click win btn\n",
      "render win btn\n",
      "\n",
      "\n",
      "App: Launched with the ConcreteCreator2.\n",
      "Application\n",
      "\n",
      "click web btn\n",
      "render web btn\n"
     ]
    }
   ],
   "source": [
    "if __name__ == \"__main__\":\n",
    "    print(\"App: Launched with the ConcreteCreator1.\")\n",
    "    Application(WindowsDialog())\n",
    "    print(\"\\n\")\n",
    "\n",
    "    print(\"App: Launched with the ConcreteCreator2.\")\n",
    "    Application(WebDialog())"
   ]
  }
 ],
 "metadata": {
  "kernelspec": {
   "display_name": "Python 3.10.4 64-bit",
   "language": "python",
   "name": "python3"
  },
  "language_info": {
   "codemirror_mode": {
    "name": "ipython",
    "version": 3
   },
   "file_extension": ".py",
   "mimetype": "text/x-python",
   "name": "python",
   "nbconvert_exporter": "python",
   "pygments_lexer": "ipython3",
   "version": "3.10.4"
  },
  "orig_nbformat": 4,
  "vscode": {
   "interpreter": {
    "hash": "4f946df053fbf2b937619d3c5458e7af74262f9a954d8797ba0b27400bcafe06"
   }
  }
 },
 "nbformat": 4,
 "nbformat_minor": 2
}
